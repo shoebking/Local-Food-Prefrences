{
 "cells": [
  {
   "cell_type": "code",
   "execution_count": 70,
   "id": "ee474074",
   "metadata": {},
   "outputs": [],
   "source": [
    "import pandas as pd"
   ]
  },
  {
   "cell_type": "code",
   "execution_count": 73,
   "id": "1b005380",
   "metadata": {},
   "outputs": [
    {
     "data": {
      "text/html": [
       "<div>\n",
       "<style scoped>\n",
       "    .dataframe tbody tr th:only-of-type {\n",
       "        vertical-align: middle;\n",
       "    }\n",
       "\n",
       "    .dataframe tbody tr th {\n",
       "        vertical-align: top;\n",
       "    }\n",
       "\n",
       "    .dataframe thead th {\n",
       "        text-align: right;\n",
       "    }\n",
       "</style>\n",
       "<table border=\"1\" class=\"dataframe\">\n",
       "  <thead>\n",
       "    <tr style=\"text-align: right;\">\n",
       "      <th></th>\n",
       "      <th>SNO</th>\n",
       "      <th>Ingridient</th>\n",
       "      <th>Calories</th>\n",
       "      <th>Cholesterol</th>\n",
       "      <th>Sodium</th>\n",
       "      <th>Fat</th>\n",
       "      <th>Sugar</th>\n",
       "      <th>Protein</th>\n",
       "      <th>vm</th>\n",
       "    </tr>\n",
       "  </thead>\n",
       "  <tbody>\n",
       "    <tr>\n",
       "      <th>0</th>\n",
       "      <td>1</td>\n",
       "      <td>bittergourd</td>\n",
       "      <td>21.0</td>\n",
       "      <td>0.0</td>\n",
       "      <td>6.0</td>\n",
       "      <td>0.0</td>\n",
       "      <td>0.0</td>\n",
       "      <td>1.0</td>\n",
       "      <td>A,B1,B2,B3,C,CALCIUM,IRON,</td>\n",
       "    </tr>\n",
       "    <tr>\n",
       "      <th>1</th>\n",
       "      <td>2</td>\n",
       "      <td>salt</td>\n",
       "      <td>0.0</td>\n",
       "      <td>0.0</td>\n",
       "      <td>0.0</td>\n",
       "      <td>0.0</td>\n",
       "      <td>0.0</td>\n",
       "      <td>0.0</td>\n",
       "      <td>SODIUM,MANGANEESE,CALCIUM</td>\n",
       "    </tr>\n",
       "    <tr>\n",
       "      <th>2</th>\n",
       "      <td>3</td>\n",
       "      <td>onion</td>\n",
       "      <td>40.0</td>\n",
       "      <td>0.0</td>\n",
       "      <td>4.0</td>\n",
       "      <td>0.1</td>\n",
       "      <td>4.2</td>\n",
       "      <td>1.1</td>\n",
       "      <td>C,B6,POTASSIUM,CALCIUM</td>\n",
       "    </tr>\n",
       "    <tr>\n",
       "      <th>3</th>\n",
       "      <td>4</td>\n",
       "      <td>gramflour</td>\n",
       "      <td>356.0</td>\n",
       "      <td>0.0</td>\n",
       "      <td>64.0</td>\n",
       "      <td>6.0</td>\n",
       "      <td>10.0</td>\n",
       "      <td>20.0</td>\n",
       "      <td>POTASSIUM,PHOSPHOROUS,MAGNESIUM</td>\n",
       "    </tr>\n",
       "    <tr>\n",
       "      <th>4</th>\n",
       "      <td>5</td>\n",
       "      <td>turmericpowder</td>\n",
       "      <td>0.0</td>\n",
       "      <td>0.0</td>\n",
       "      <td>0.0</td>\n",
       "      <td>0.0</td>\n",
       "      <td>0.0</td>\n",
       "      <td>0.0</td>\n",
       "      <td>C,B6,IRON,MAGNESIUM</td>\n",
       "    </tr>\n",
       "  </tbody>\n",
       "</table>\n",
       "</div>"
      ],
      "text/plain": [
       "   SNO      Ingridient  Calories  Cholesterol  Sodium  Fat  Sugar  Protein  \\\n",
       "0    1     bittergourd      21.0          0.0     6.0  0.0    0.0      1.0   \n",
       "1    2            salt       0.0          0.0     0.0  0.0    0.0      0.0   \n",
       "2    3           onion      40.0          0.0     4.0  0.1    4.2      1.1   \n",
       "3    4       gramflour     356.0          0.0    64.0  6.0   10.0     20.0   \n",
       "4    5  turmericpowder       0.0          0.0     0.0  0.0    0.0      0.0   \n",
       "\n",
       "                                vm  \n",
       "0       A,B1,B2,B3,C,CALCIUM,IRON,  \n",
       "1        SODIUM,MANGANEESE,CALCIUM  \n",
       "2           C,B6,POTASSIUM,CALCIUM  \n",
       "3  POTASSIUM,PHOSPHOROUS,MAGNESIUM  \n",
       "4              C,B6,IRON,MAGNESIUM  "
      ]
     },
     "execution_count": 73,
     "metadata": {},
     "output_type": "execute_result"
    }
   ],
   "source": [
    "data=pd.read_csv('panace_ingridients.csv')\n",
    "data2=pd.read_csv('panace_fooditems.csv')\n",
    "data.rename(columns = {'Cholesterol(mg)':'Cholesterol', 'Sodium(mg)':'Sodium',\n",
    "                              'Fat(grams)':'Fat', 'Sugar(grams)':'Sugar','Protein(grams)':'Protein','Vitamins and Minerals':'vm'}, inplace = True)\n",
    "data2.head()\n",
    "data.head()"
   ]
  },
  {
   "cell_type": "code",
   "execution_count": 88,
   "id": "be01ffad",
   "metadata": {},
   "outputs": [
    {
     "name": "stdout",
     "output_type": "stream",
     "text": [
      "['bittergourd,salt,onion,gramflour,turmericpowder,redchillipowder,cuminseeds,corianderpowder,amchur,sunfloweroil']\n",
      "[['bittergourd', 21.0, 0.0, 6.0, 0.0, 0.0, 1.0, 'A,B1,B2,B3,C,CALCIUM,IRON,'], ['salt', 0.0, 0.0, 0.0, 0.0, 0.0, 0.0, 'SODIUM,MANGANEESE,CALCIUM'], ['onion', 40.0, 0.0, 4.0, 0.1, 4.2, 1.1, 'C,B6,POTASSIUM,CALCIUM'], ['gramflour', 356.0, 0.0, 64.0, 6.0, 10.0, 20.0, 'POTASSIUM,PHOSPHOROUS,MAGNESIUM'], ['turmericpowder', 0.0, 0.0, 0.0, 0.0, 0.0, 0.0, 'C,B6,IRON,MAGNESIUM'], ['redchillipowder', 0.0, 0.0, 0.0, 0.0, 0.0, 0.0, 'C,B6,IRON,MAGNESIUM'], ['cuminseeds', 0.0, 0.0, 0.0, 0.0, 0.0, 0.0, 'C,B6,IRON,MAGNESIUM'], ['corianderpowder', 0.0, 0.0, 0.0, 0.0, 0.0, 0.0, 'POTASSIUM,IRON,CALCIUM'], ['amchur', 0.0, 0.0, 0.0, 0.0, 0.0, 0.0, 'SODIUM,CALCIUM']]\n"
     ]
    }
   ],
   "source": [
    "x=data2.loc[data2['TranslatedRecipeName']=='Masala Karela Recipe']\n",
    "a=list(x.Ingridients)\n",
    "print(a)\n",
    "b=[]\n",
    "f=''\n",
    "for i in a[0]:\n",
    "    if(i!=','):\n",
    "        f+=i\n",
    "    else:\n",
    "        b.append(f)\n",
    "        f=''\n",
    "    \n",
    "ans=[]\n",
    "for i in b:\n",
    "     y=data.loc[data['Ingridient']==i]\n",
    "     x=[list(y.Ingridient),list(y.Calories),list(y.Cholesterol),list(y.Sodium),list(y.Fat),list(y.Sugar),list(y.Protein),list(y.vm)]\n",
    "     s=[]\n",
    "     for j in x:\n",
    "            s.append(j[0])\n",
    "     ans.append(s)\n",
    "print(ans)"
   ]
  },
  {
   "cell_type": "code",
   "execution_count": null,
   "id": "60e2a178",
   "metadata": {},
   "outputs": [],
   "source": []
  }
 ],
 "metadata": {
  "kernelspec": {
   "display_name": "Python 3 (ipykernel)",
   "language": "python",
   "name": "python3"
  },
  "language_info": {
   "codemirror_mode": {
    "name": "ipython",
    "version": 3
   },
   "file_extension": ".py",
   "mimetype": "text/x-python",
   "name": "python",
   "nbconvert_exporter": "python",
   "pygments_lexer": "ipython3",
   "version": "3.9.4"
  }
 },
 "nbformat": 4,
 "nbformat_minor": 5
}
